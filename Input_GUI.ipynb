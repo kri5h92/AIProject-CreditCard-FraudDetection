{
 "cells": [
  {
   "cell_type": "code",
   "execution_count": 1,
   "id": "d4a64f87",
   "metadata": {},
   "outputs": [
    {
     "name": "stdout",
     "output_type": "stream",
     "text": [
      "['Krish', 'Jain', '2', '11', '1', '17656', '16', '3', '25']\n"
     ]
    }
   ],
   "source": [
    "from tkinter import *\n",
    "def sel():\n",
    "    arr = []\n",
    "    f_name=e1.get()\n",
    "    l_name=e2.get()\n",
    "    gender=str(var.get())\n",
    "    state = e3.get()\n",
    "    no_of_card=e4.get()\n",
    "    balance=e5.get()\n",
    "    no_of_transac=e6.get()\n",
    "    no_of_intl_transac=e7.get()\n",
    "    credit_line=e8.get()\n",
    "    arr.append(f_name)\n",
    "    arr.append(l_name)\n",
    "    arr.append(gender)\n",
    "    arr.append(state)\n",
    "    arr.append(no_of_card)\n",
    "    arr.append(balance)\n",
    "    arr.append(no_of_transac)\n",
    "    arr.append(no_of_intl_transac)\n",
    "    arr.append(credit_line)\n",
    "    with open('output.txt', 'w') as f:\n",
    "        for item in arr:\n",
    "            f.write(\"%s\\n\" % item)\n",
    "        f.close()\n",
    "    print(arr)\n",
    "f_name = None\n",
    "l_name = None\n",
    "gender = None\n",
    "state = None\n",
    "no_of_card = None\n",
    "balance = None\n",
    "no_of_transac = None\n",
    "no_of_intl_transac = None\n",
    "credit_line = None\n",
    "root = Tk()\n",
    "lbl1 = Label(root, text=\"GUI\", font=(\"Arial Bold\", 20) )\n",
    "lbl1.grid(column=2,row=0)\n",
    "var = IntVar()\n",
    "label = Label(root)\n",
    "label.grid(row=20)\n",
    "Label(root, text=\"First Name\").grid(row=4,column=1)\n",
    "Label(root, text=\"Last Name\").grid(row=5,column=1)\n",
    "R1 = Radiobutton(root, text=\"Male\", variable=var, value=1).grid(row=6,column=1)\n",
    "R1 = Radiobutton(root, text=\"Female\", variable=var, value=2).grid(row=6,column=2)\n",
    "R1 = Radiobutton(root, text=\"Others\", variable=var, value=3).grid(row=6,column=3)\n",
    "Label(root,text=\"State\").grid(row=7,column=1)\n",
    "Label(root,text=\"No of Cards\").grid(row=8,column=1)\n",
    "Label(root,text=\"Balance\").grid(row=9,column=1)\n",
    "Label(root,text=\"No of Transactions\").grid(row=10,column=1)\n",
    "Label(root,text=\"Number of International Transactions\").grid(row=11,column=1)\n",
    "Label(root,text=\"Credit Line\").grid(row=12,column=1)\n",
    "e1=Entry(root)\n",
    "e2=Entry(root)\n",
    "e3=Entry(root)\n",
    "e4=Entry(root)\n",
    "e5=Entry(root)\n",
    "e6=Entry(root)\n",
    "e7=Entry(root)\n",
    "e8=Entry(root)\n",
    "e1.grid(row=4, column=2)\n",
    "e2.grid(row=5, column=2)\n",
    "e3.grid(row=7,column=2)\n",
    "e4.grid(row=8,column=2)\n",
    "e5.grid(row=9,column=2)\n",
    "e6.grid(row=10,column=2)\n",
    "e7.grid(row=11,column=2)\n",
    "e8.grid(row=12,column=2)\n",
    "Button(root,text=\"Submit\",command=sel).grid(row=13,column=2,sticky=W,pady=4)\n",
    "Button(root, text='Quit', command=root.quit).grid(row=13, column=3, sticky=W, pady=4)\n",
    "mainloop()"
   ]
  },
  {
   "cell_type": "code",
   "execution_count": null,
   "id": "5ade652b",
   "metadata": {},
   "outputs": [],
   "source": []
  }
 ],
 "metadata": {
  "kernelspec": {
   "display_name": "Python 3 (ipykernel)",
   "language": "python",
   "name": "python3"
  },
  "language_info": {
   "codemirror_mode": {
    "name": "ipython",
    "version": 3
   },
   "file_extension": ".py",
   "mimetype": "text/x-python",
   "name": "python",
   "nbconvert_exporter": "python",
   "pygments_lexer": "ipython3",
   "version": "3.11.2"
  }
 },
 "nbformat": 4,
 "nbformat_minor": 5
}
